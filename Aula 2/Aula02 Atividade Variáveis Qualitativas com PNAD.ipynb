{
 "cells": [
  {
   "cell_type": "markdown",
   "metadata": {},
   "source": [
    "___\n",
    "# Atividade: Variáveis qualitativas com a PNAD (ALUNOS)\n",
    "___\n",
    "\n",
    "## Aula 02 \n",
    "## Francisco Ciol e Giovanni Ranieri\n",
    "\n",
    "\n",
    "**Link úteis:**\n",
    "1.\tLeitura prévia necessária: Magalhães e Lima (7ª. Edição): pág. 9 a 16 – destacando para variáveis qualitativas.\n",
    "2.\t10 Minutes to Pandas: http://pandas.pydata.org/pandas-docs/stable/10min.html\n",
    "3.\tEssential Basic Functionality: http://pandas.pydata.org/pandas-docs/stable/basics.html\n",
    "4.  Estude a aula `Aula02 Análise Exploratoria Variáveis Qualitativas-ALUNOS.ipynb`, o qual contém uma introdução ao Jupyter Notebook. A publicação dessa aula tem como objetivo auxiliá-lo, caso queira, no desenvolvimento dos seus próximos programas, como esta atividade.\n",
    "\n",
    "**Hoje:**\n",
    "1.\tAnalisar variáveis qualitativas de forma uni e bivariadas utilizando tabelas de frequências e gráficos de barras e de pizza (ou setor).\n",
    "2.  Trabalhar com a base de dados da PNAD 2013 - Pesquisa Nacional por Amostra de Domicílios\n",
    "\n",
    "**Próxima aula:**\n",
    "1.\tLeitura prévia necessária: Magalhães e Lima (7ª. Edição): pág. 9 a 17 – destacando para variáveis quantitativas; pág. 106 e 107 (Definição 4.1 e Exemplo 4.1).\n",
    "\n",
    "___\n"
   ]
  },
  {
   "cell_type": "markdown",
   "metadata": {},
   "source": [
    "___\n",
    "## <font color='blue'>PNAD 2013 – PESQUISA NACIONAL POR AMOSTRA DE DOMICÍLIOS</font>\n",
    "\n",
    "**Base de dados reduzida: ** `pes2013A.txt` (75 MB)\n",
    "[Acesse a base de dados aqui: https://dl.dropboxusercontent.com/u/65763596/Aula02/pes2013A.txt] \n",
    "\n",
    "**Dicionário das variáveis: ** `Dicionário de variáveis de pessoas - PNAD 2013.xlsx`\n",
    "[Acesse dicionário aqui: https://dl.dropboxusercontent.com/u/65763596/Aula02/Dicion%C3%A1rio%20de%20vari%C3%A1veis%20de%20pessoas%20-%20PNAD%202013.xls]\n",
    "\n",
    "\n",
    "Muitos especialistas na área de negócios dizem que empresários mais bem sucedidos são aqueles que fazem um planejamento antes de começar seu próprio negócio. Nessa visão, imagine que o Sr. Gold tenha como grande objetivo abrir uma nova faculdade e para isso deseja estudar o perfil do estudante que cursa ensino médio ou pré-vestibular e do que cursa ensino superior. \n",
    "\n",
    "Assuma que as variáveis de interesse a respeito dos estudantes sejam relativamente as mesmas de 2013 até o momento atual. Nesse caso, seja criativo para ajudar o Sr. Gold que deseja abrir seu negócio, mas não tem certeza sobre quais variáveis o interessam. \n",
    "\n",
    "Vocês podem ajudá-lo?!  \n",
    "\n",
    "As variáveis a seguir devem fazer parte da sua análise:\n",
    "\n",
    "* V0302: sexo\n",
    "* V0404: cor ou raça\n",
    "* V6002: rede de ensino\n",
    "* V4802: nível de ensino e grupos de séries do ensino fundamental que frequentavam (todos os estudantes)\n",
    "\n",
    "** Crie uma variável com região do indivíduo amostrado considerando a variável `UF` que define o estado e também trabalhe com essa nova variável em suas análises. ** \n",
    "\n",
    "** Escolha mais pelo menos DUAS variáveis qualitativas para completar sua análise!! **\n",
    "\n",
    "Faça uma análise exploratória apenas com as variáveis qualitativas com foco no objetivo do Sr. Gold.\n",
    "\n",
    "Sua análise deve conter pelo menos uma das seguintes visualizações:\n",
    "\n",
    "1. Gráfico de colunas (bar) e setor (pie) com as frequências relativas cadas categorias das variáveis qualitativas.\n",
    "2. Tabela cruzada entre pares de variaveis qualitativas. Montar o gráfico de colunas. Repetir o processo habilitando a opção \"stacked=True\".\n",
    "\n",
    "\n",
    "___\n",
    "\n",
    "\n",
    "\n",
    "<font color='red'>\n",
    "Crie um repositório chamado CD em seu Github\n",
    "</font>\n",
    "\n",
    "\n",
    "Neste repositório, salve seu trabalho numa pasta chamada aula2\n",
    "\n",
    "Por exemplo, se seu login for *pikachu* o projeto vai estar na pasta:\n",
    "\n",
    "https://github.com/<font color=red>pikachu/CD/aula2</font>\n",
    "\n",
    "\n",
    "\n",
    "## <font color='red'>Terça-feira (dia 16/08), no horário de atendimento da sua turma, deverá apresentar aos NINJAS!!</font>\n",
    "___"
   ]
  },
  {
   "cell_type": "code",
   "execution_count": 9,
   "metadata": {
    "collapsed": false
   },
   "outputs": [],
   "source": [
    "import pandas as pd\n",
    "import numpy as np\n",
    "%matplotlib inline\n",
    "import matplotlib.pyplot as plt\n",
    "import matplotlib\n",
    "matplotlib.style.use('ggplot')\n",
    "Dados = pd.read_csv('PNADalunos.csv')\n",
    "\n",
    "UF = Dados.UF.value_counts()\n",
    "Sexo  = Dados['V0302']\n",
    "Idade = Dados['V8005']\n",
    "Alfabetizado = Dados['V0601']\n",
    "RedeDeEnsino = Dados['V6002']\n",
    "Curso = Dados['V6003']\n",
    "Usou_internet_nos_ultimos_3_meses = Dados['V06111']"
   ]
  },
  {
   "cell_type": "code",
   "execution_count": 10,
   "metadata": {
    "collapsed": false
   },
   "outputs": [
    {
     "name": "stdout",
     "output_type": "stream",
     "text": [
      "\n",
      "Analise dos sexos dos Universitários do país em porcentagem(%):\n",
      "4 = Mulheres\n",
      "2 = Homens\n",
      "\n"
     ]
    },
    {
     "data": {
      "image/png": "[encoded data removed]",
      "text/plain": [
       "<matplotlib.figure.Figure at 0x1818d0f8518>"
      ]
     },
     "metadata": {},
     "output_type": "display_data"
    }
   ],
   "source": [
    "Universitários = Dados[Dados.V6003 == 5]\n",
    "PreUni = Dados[Dados.V6003 == 10]\n",
    "Sexouni = Universitários.V0302.value_counts()\n",
    "Sexopre = PreUni.V0302.value_counts()\n",
    "Sexouni.plot(kind='pie',colors=('grey', 'pink'), autopct=\"%0.2f\",legend=False)\n",
    "print('''\n",
    "Analise dos sexos dos Universitários do país em porcentagem(%):\n",
    "4 = Mulheres\n",
    "2 = Homens\n",
    "''')\n"
   ]
  },
  {
   "cell_type": "code",
   "execution_count": 11,
   "metadata": {
    "collapsed": false
   },
   "outputs": [
    {
     "name": "stdout",
     "output_type": "stream",
     "text": [
      "\n",
      "Analise dos sexos dos Pre-vestibulandos do país em porcentagem(%):\n",
      "4 = Mulheres\n",
      "2 = Homens\n",
      "\n"
     ]
    },
    {
     "data": {
      "image/png": "[encoded data removed]",
      "text/plain": [
       "<matplotlib.figure.Figure at 0x1818dd82c50>"
      ]
     },
     "metadata": {},
     "output_type": "display_data"
    }
   ],
   "source": [
    "Sexopre.plot(kind='pie',colors=('grey', 'pink'), autopct=\"%0.2f\",legend=False)\n",
    "print('''\n",
    "Analise dos sexos dos Pre-vestibulandos do país em porcentagem(%):\n",
    "4 = Mulheres\n",
    "2 = Homens\n",
    "''')"
   ]
  },
  {
   "cell_type": "code",
   "execution_count": 12,
   "metadata": {
    "collapsed": false,
    "scrolled": false
   },
   "outputs": [
    {
     "name": "stdout",
     "output_type": "stream",
     "text": [
      "\"\n",
      "Numero de Universitários por Estados:\n",
      "Legenda:\n",
      "11 = Rondônia\n",
      "12 = Acre\n",
      "13 = Amazonas\n",
      "14 = Roraima\n",
      "15 = Pará\n",
      "16 = Amapá\n",
      "17 = Tocantins\n",
      "21 = Maranhão\n",
      "22 = Piauí\n",
      "23 = Ceará\n",
      "24 = Rio Grande do Norte\n",
      "25 = Paraíba\n",
      "26 = Pernambuco\n",
      "27 = Alagoas\n",
      "28 = Sergipe\n",
      "29 = Bahia\n",
      "31 = Minas Gerais\n",
      "32 = Espírito Santo\n",
      "33 = Rio de Janeiro\n",
      "35 = São Paulo\n",
      "41 = Paraná\n",
      "42 = Santa Catarina\n",
      "43 = Rio Grande do Sul\n",
      "50 = Mato Grosso do Sul\n",
      "51 = Mato Grosso\n",
      "52 = Goiás\n",
      "53 = DF\n",
      "\n"
     ]
    },
    {
     "data": {
      "image/png": "[encoded data removed]",
      "text/plain": [
       "<matplotlib.figure.Figure at 0x1818dd77908>"
      ]
     },
     "metadata": {},
     "output_type": "display_data"
    }
   ],
   "source": [
    "grafico1 = pd.crosstab(Universitários.UF,len(Universitários)).plot(kind='bar',legend=False)\n",
    "grafico1\n",
    "print(\"\"\"\"\n",
    "Numero de Universitários por Estados:\n",
    "Legenda:\n",
    "11 = Rondônia\n",
    "12 = Acre\n",
    "13 = Amazonas\n",
    "14 = Roraima\n",
    "15 = Pará\n",
    "16 = Amapá\n",
    "17 = Tocantins\n",
    "21 = Maranhão\n",
    "22 = Piauí\n",
    "23 = Ceará\n",
    "24 = Rio Grande do Norte\n",
    "25 = Paraíba\n",
    "26 = Pernambuco\n",
    "27 = Alagoas\n",
    "28 = Sergipe\n",
    "29 = Bahia\n",
    "31 = Minas Gerais\n",
    "32 = Espírito Santo\n",
    "33 = Rio de Janeiro\n",
    "35 = São Paulo\n",
    "41 = Paraná\n",
    "42 = Santa Catarina\n",
    "43 = Rio Grande do Sul\n",
    "50 = Mato Grosso do Sul\n",
    "51 = Mato Grosso\n",
    "52 = Goiás\n",
    "53 = DF\n",
    "\"\"\")"
   ]
  },
  {
   "cell_type": "code",
   "execution_count": 13,
   "metadata": {
    "collapsed": false
   },
   "outputs": [
    {
     "name": "stdout",
     "output_type": "stream",
     "text": [
      "\"\n",
      "Numero de Vestibulandos por Estados:\n",
      "Legenda:\n",
      "11 = Rondônia\n",
      "12 = Acre\n",
      "13 = Amazonas\n",
      "14 = Roraima\n",
      "15 = Pará\n",
      "16 = Amapá\n",
      "17 = Tocantins\n",
      "21 = Maranhão\n",
      "22 = Piauí\n",
      "23 = Ceará\n",
      "24 = Rio Grande do Norte\n",
      "25 = Paraíba\n",
      "26 = Pernambuco\n",
      "27 = Alagoas\n",
      "28 = Sergipe\n",
      "29 = Bahia\n",
      "31 = Minas Gerais\n",
      "32 = Espírito Santo\n",
      "33 = Rio de Janeiro\n",
      "35 = São Paulo\n",
      "41 = Paraná\n",
      "42 = Santa Catarina\n",
      "43 = Rio Grande do Sul\n",
      "50 = Mato Grosso do Sul\n",
      "51 = Mato Grosso\n",
      "52 = Goiás\n",
      "53 = DF\n",
      "\n"
     ]
    },
    {
     "data": {
      "image/png": "[encoded data removed]",
      "text/plain": [
       "<matplotlib.figure.Figure at 0x1818b290cf8>"
      ]
     },
     "metadata": {},
     "output_type": "display_data"
    }
   ],
   "source": [
    "grafico2 = pd.crosstab(PreUni.UF,len(PreUni)).plot(kind='bar',legend=False)\n",
    "grafico2\n",
    "print(\"\"\"\"\n",
    "Numero de Vestibulandos por Estados:\n",
    "Legenda:\n",
    "11 = Rondônia\n",
    "12 = Acre\n",
    "13 = Amazonas\n",
    "14 = Roraima\n",
    "15 = Pará\n",
    "16 = Amapá\n",
    "17 = Tocantins\n",
    "21 = Maranhão\n",
    "22 = Piauí\n",
    "23 = Ceará\n",
    "24 = Rio Grande do Norte\n",
    "25 = Paraíba\n",
    "26 = Pernambuco\n",
    "27 = Alagoas\n",
    "28 = Sergipe\n",
    "29 = Bahia\n",
    "31 = Minas Gerais\n",
    "32 = Espírito Santo\n",
    "33 = Rio de Janeiro\n",
    "35 = São Paulo\n",
    "41 = Paraná\n",
    "42 = Santa Catarina\n",
    "43 = Rio Grande do Sul\n",
    "50 = Mato Grosso do Sul\n",
    "51 = Mato Grosso\n",
    "52 = Goiás\n",
    "53 = DF\n",
    "\"\"\")"
   ]
  },
  {
   "cell_type": "code",
   "execution_count": 14,
   "metadata": {
    "collapsed": false,
    "scrolled": false
   },
   "outputs": [
    {
     "name": "stdout",
     "output_type": "stream",
     "text": [
      "\n",
      "Relação de Números de estudantes por estados separados por sexo\n",
      "Legenda:\n",
      "11 = Rondônia\n",
      "12 = Acre\n",
      "13 = Amazonas\n",
      "14 = Roraima\n",
      "15 = Pará\n",
      "16 = Amapá\n",
      "17 = Tocantins\n",
      "21 = Maranhão\n",
      "22 = Piauí\n",
      "23 = Ceará\n",
      "24 = Rio Grande do Norte\n",
      "25 = Paraíba\n",
      "26 = Pernambuco\n",
      "27 = Alagoas\n",
      "28 = Sergipe\n",
      "29 = Bahia\n",
      "31 = Minas Gerais\n",
      "32 = Espírito Santo\n",
      "33 = Rio de Janeiro\n",
      "35 = São Paulo\n",
      "41 = Paraná\n",
      "42 = Santa Catarina\n",
      "43 = Rio Grande do Sul\n",
      "50 = Mato Grosso do Sul\n",
      "51 = Mato Grosso\n",
      "52 = Goiás\n",
      "53 = DF\n",
      "\n",
      "2 = Homem\n",
      "4 = Mulher\n",
      "\n"
     ]
    },
    {
     "data": {
      "image/png": "[encoded data removed]",
      "text/plain": [
       "<matplotlib.figure.Figure at 0x1818d163588>"
      ]
     },
     "metadata": {},
     "output_type": "display_data"
    }
   ],
   "source": [
    "Sexo_est = pd.crosstab(Dados.UF, Dados.V0302)\n",
    "Sexo_est.plot.bar(color=('yellow', 'salmon', 'blue', 'red', 'green'), stacked=True)\n",
    "print('''\n",
    "Relação de Números de estudantes por estados separados por sexo\n",
    "Legenda:\n",
    "11 = Rondônia\n",
    "12 = Acre\n",
    "13 = Amazonas\n",
    "14 = Roraima\n",
    "15 = Pará\n",
    "16 = Amapá\n",
    "17 = Tocantins\n",
    "21 = Maranhão\n",
    "22 = Piauí\n",
    "23 = Ceará\n",
    "24 = Rio Grande do Norte\n",
    "25 = Paraíba\n",
    "26 = Pernambuco\n",
    "27 = Alagoas\n",
    "28 = Sergipe\n",
    "29 = Bahia\n",
    "31 = Minas Gerais\n",
    "32 = Espírito Santo\n",
    "33 = Rio de Janeiro\n",
    "35 = São Paulo\n",
    "41 = Paraná\n",
    "42 = Santa Catarina\n",
    "43 = Rio Grande do Sul\n",
    "50 = Mato Grosso do Sul\n",
    "51 = Mato Grosso\n",
    "52 = Goiás\n",
    "53 = DF\n",
    "\n",
    "2 = Homem\n",
    "4 = Mulher\n",
    "''')"
   ]
  },
  {
   "cell_type": "code",
   "execution_count": 15,
   "metadata": {
    "collapsed": false
   },
   "outputs": [
    {
     "name": "stdout",
     "output_type": "stream",
     "text": [
      "Relação de Alunos em públicas e particulares por estado\n",
      "Legenda:\n",
      "11 = Rondônia\n",
      "12 = Acre\n",
      "13 = Amazonas\n",
      "14 = Roraima\n",
      "15 = Pará\n",
      "16 = Amapá\n",
      "17 = Tocantins\n",
      "21 = Maranhão\n",
      "22 = Piauí\n",
      "23 = Ceará\n",
      "24 = Rio Grande do Norte\n",
      "25 = Paraíba\n",
      "26 = Pernambuco\n",
      "27 = Alagoas\n",
      "28 = Sergipe\n",
      "29 = Bahia\n",
      "31 = Minas Gerais\n",
      "32 = Espírito Santo\n",
      "33 = Rio de Janeiro\n",
      "35 = São Paulo\n",
      "41 = Paraná\n",
      "42 = Santa Catarina\n",
      "43 = Rio Grande do Sul\n",
      "50 = Mato Grosso do Sul\n",
      "51 = Mato Grosso\n",
      "52 = Goiás\n",
      "53 = DF\n",
      "\n",
      "2.0 = Publica\n",
      "4.0 = Privada\n"
     ]
    },
    {
     "data": {
      "image/png": "[encoded data removed]",
      "text/plain": [
       "<matplotlib.figure.Figure at 0x1818d1e8588>"
      ]
     },
     "metadata": {},
     "output_type": "display_data"
    }
   ],
   "source": [
    "\n",
    "pubVSpart.plot.bar(color=('yellow', 'salmon', 'blue', 'red', 'green'), stacked=True)\n",
    "print('''Relação de Alunos em públicas e particulares por estado\n",
    "Legenda:\n",
    "11 = Rondônia\n",
    "12 = Acre\n",
    "13 = Amazonas\n",
    "14 = Roraima\n",
    "15 = Pará\n",
    "16 = Amapá\n",
    "17 = Tocantins\n",
    "21 = Maranhão\n",
    "22 = Piauí\n",
    "23 = Ceará\n",
    "24 = Rio Grande do Norte\n",
    "25 = Paraíba\n",
    "26 = Pernambuco\n",
    "27 = Alagoas\n",
    "28 = Sergipe\n",
    "29 = Bahia\n",
    "31 = Minas Gerais\n",
    "32 = Espírito Santo\n",
    "33 = Rio de Janeiro\n",
    "35 = São Paulo\n",
    "41 = Paraná\n",
    "42 = Santa Catarina\n",
    "43 = Rio Grande do Sul\n",
    "50 = Mato Grosso do Sul\n",
    "51 = Mato Grosso\n",
    "52 = Goiás\n",
    "53 = DF\n",
    "\n",
    "2.0 = Publica\n",
    "4.0 = Privada''')"
   ]
  },
  {
   "cell_type": "code",
   "execution_count": 16,
   "metadata": {
    "collapsed": false
   },
   "outputs": [],
   "source": [
    "SPuniversitarios1 = Dados[(Dados.V6003 == 5) & (Dados.UF == 35)]\n",
    "SPuniversitarios = SPuniversitarios1.V06111.value_counts()\n",
    "\n",
    "RGuniversitarios1 = Dados[(Dados.V6003 == 5) & (Dados.UF == 43)]\n",
    "RGuniversitarios = RGuniversitarios1.V06111.value_counts()\n",
    "\n",
    "MGuniversitarios1 = Dados[(Dados.V6003 == 5) & (Dados.UF == 31)]\n",
    "MGuniversitarios = MGuniversitarios1.V06111.value_counts()\n",
    "\n"
   ]
  },
  {
   "cell_type": "markdown",
   "metadata": {},
   "source": [
    "## Escolha de três estados\n",
    "Com base na análise anterior, foram selecionados os 3 estados com maior número de alunos para verificar qual a porcentagem deles que utilisou internet nos Ultimos 3 meses"
   ]
  },
  {
   "cell_type": "markdown",
   "metadata": {},
   "source": [
    "## São Paulo:"
   ]
  },
  {
   "cell_type": "code",
   "execution_count": 17,
   "metadata": {
    "collapsed": false
   },
   "outputs": [
    {
     "name": "stdout",
     "output_type": "stream",
     "text": [
      "\n",
      "SP:\n",
      "1 = Usou Internet nos ultimos 3 meses\n",
      "3 = Não Usou Internet nos ultimos 3 meses\n"
     ]
    },
    {
     "data": {
      "image/png": "[encoded data removed]",
      "text/plain": [
       "<matplotlib.figure.Figure at 0x1818d375080>"
      ]
     },
     "metadata": {},
     "output_type": "display_data"
    }
   ],
   "source": [
    "SPuniversitarios.plot(kind='pie',colors=('yellow', 'red'), autopct=\"%0.2f\",legend=False)\n",
    "print('''\n",
    "SP:\n",
    "1 = Usou Internet nos ultimos 3 meses\n",
    "3 = Não Usou Internet nos ultimos 3 meses''')"
   ]
  },
  {
   "cell_type": "markdown",
   "metadata": {},
   "source": [
    "## Minas Gerais"
   ]
  },
  {
   "cell_type": "code",
   "execution_count": 18,
   "metadata": {
    "collapsed": false
   },
   "outputs": [
    {
     "name": "stdout",
     "output_type": "stream",
     "text": [
      "\n",
      "MG:\n",
      "1 = Usou Internet nos ultimos 3 meses\n",
      "3 = Não Usou Internet nos ultimos 3 meses\n"
     ]
    },
    {
     "data": {
      "image/png": "[encoded data removed]",
      "text/plain": [
       "<matplotlib.figure.Figure at 0x1818d3d6828>"
      ]
     },
     "metadata": {},
     "output_type": "display_data"
    }
   ],
   "source": [
    "MGuniversitarios.plot(kind='pie',colors=('yellow', 'red'), autopct=\"%0.2f\",legend=False)\n",
    "print('''\n",
    "MG:\n",
    "1 = Usou Internet nos ultimos 3 meses\n",
    "3 = Não Usou Internet nos ultimos 3 meses''')"
   ]
  },
  {
   "cell_type": "markdown",
   "metadata": {},
   "source": [
    "## Rio Grande Do Sul"
   ]
  },
  {
   "cell_type": "code",
   "execution_count": 19,
   "metadata": {
    "collapsed": false
   },
   "outputs": [
    {
     "name": "stdout",
     "output_type": "stream",
     "text": [
      "\n",
      "RG:\n",
      "1 = Usou Internet nos ultimos 3 meses\n",
      "3 = Não Usou Internet nos ultimos 3 meses\n"
     ]
    },
    {
     "data": {
      "image/png": "[encoded data removed]",
      "text/plain": [
       "<matplotlib.figure.Figure at 0x1818c9a1400>"
      ]
     },
     "metadata": {},
     "output_type": "display_data"
    }
   ],
   "source": [
    "RGuniversitarios.plot(kind='pie',colors=('yellow', 'red'), autopct=\"%0.2f\",legend=False)\n",
    "print('''\n",
    "RG:\n",
    "1 = Usou Internet nos ultimos 3 meses\n",
    "3 = Não Usou Internet nos ultimos 3 meses''')"
   ]
  },
  {
   "cell_type": "code",
   "execution_count": null,
   "metadata": {
    "collapsed": true
   },
   "outputs": [],
   "source": []
  }
 ],
 "metadata": {
  "anaconda-cloud": {},
  "kernelspec": {
   "display_name": "Python [Root]",
   "language": "python",
   "name": "Python [Root]"
  },
  "language_info": {
   "codemirror_mode": {
    "name": "ipython",
    "version": 3
   },
   "file_extension": ".py",
   "mimetype": "text/x-python",
   "name": "python",
   "nbconvert_exporter": "python",
   "pygments_lexer": "ipython3",
   "version": "3.5.2"
  }
 },
 "nbformat": 4,
 "nbformat_minor": 0
}
